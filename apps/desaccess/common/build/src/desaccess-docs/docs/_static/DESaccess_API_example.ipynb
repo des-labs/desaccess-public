{
 "cells": [
  {
   "cell_type": "code",
   "execution_count": 1,
   "metadata": {},
   "outputs": [],
   "source": [
    "import os\n",
    "import sys\n",
    "import requests\n",
    "import time\n",
    "import json\n",
    "import getpass"
   ]
  },
  {
   "cell_type": "markdown",
   "metadata": {},
   "source": [
    "## Input user credentials and configuration"
   ]
  },
  {
   "cell_type": "code",
   "execution_count": null,
   "metadata": {},
   "outputs": [],
   "source": [
    "username = getpass.getpass()"
   ]
  },
  {
   "cell_type": "code",
   "execution_count": null,
   "metadata": {},
   "outputs": [],
   "source": [
    "password = getpass.getpass()"
   ]
  },
  {
   "cell_type": "code",
   "execution_count": 7,
   "metadata": {},
   "outputs": [],
   "source": [
    "base_domain = 'des.ncsa.illinois.edu'\n",
    "config = {\n",
    "    'auth_token': '',\n",
    "    'apiBaseUrl': 'https://{}/desaccess/api'.format(base_domain),\n",
    "    'filesBaseUrl': 'https://{}/files-desaccess'.format(base_domain),\n",
    "    'username': username,\n",
    "    'password': password,\n",
    "    'database': 'desdr',\n",
    "    'release': 'dr2',\n",
    "}"
   ]
  },
  {
   "cell_type": "markdown",
   "metadata": {},
   "source": [
    "## Example positions table for cutout requests"
   ]
  },
  {
   "cell_type": "code",
   "execution_count": 8,
   "metadata": {},
   "outputs": [],
   "source": [
    "positions = '''\n",
    "RA,DEC,COADD_OBJECT_ID,XSIZE,YSIZE,COLORS_FITS,RGB_STIFF_COLORS,RGB_LUPTON_COLORS,RGB_MINIMUM,RGB_STRETCH,RGB_ASINH,MAKE_FITS,MAKE_RGB_STIFF,MAKE_RGB_LUPTON\n",
    "46.275669001230,-34.256000012300,,0.90,1.30,,,,1.0,50.0,10.0,true,false,false\n",
    "36.608400001230,-15.688890012300,,0.90,1.30,z,grz,,1.0,50.0,10.0,false,false,true\n",
    "21.588130000000,3.486110000000,,0.70,1.10,grz,riy,riy,1.0,50.0,10.0,true,true,true\n",
    "'''"
   ]
  },
  {
   "cell_type": "markdown",
   "metadata": {},
   "source": [
    "## Define API wrapper functions"
   ]
  },
  {
   "cell_type": "markdown",
   "metadata": {},
   "source": [
    "### Define login function"
   ]
  },
  {
   "cell_type": "code",
   "execution_count": 9,
   "metadata": {},
   "outputs": [],
   "source": [
    "def login():\n",
    "    \"\"\"Obtains an auth token using the username and password credentials for a given database.\n",
    "    \"\"\"\n",
    "    # Login to obtain an auth token\n",
    "    r = requests.post(\n",
    "        '{}/login'.format(config['apiBaseUrl']),\n",
    "        data={\n",
    "            'username': config['username'],\n",
    "            'password': config['password'],\n",
    "            'database': config['database']\n",
    "        }\n",
    "    )\n",
    "    # Store the JWT auth token\n",
    "    config['auth_token'] = r.json()['token']\n",
    "    return config['auth_token']\n"
   ]
  },
  {
   "cell_type": "markdown",
   "metadata": {},
   "source": [
    "### Define cutout job submission function"
   ]
  },
  {
   "cell_type": "code",
   "execution_count": 10,
   "metadata": {},
   "outputs": [],
   "source": [
    "def submit_cutout_job(data = {\n",
    "        'db': config['database'],\n",
    "        'release': config['release']\n",
    "    }):\n",
    "    \"\"\"Submits a query job and returns the complete server response which includes the job ID.\"\"\"\n",
    "\n",
    "    # Submit job\n",
    "    r = requests.put(\n",
    "        '{}/job/cutout'.format(config['apiBaseUrl']),\n",
    "        data=data,\n",
    "        headers={'Authorization': 'Bearer {}'.format(config['auth_token'])}\n",
    "    )\n",
    "    response = r.json()\n",
    "    # print(json.dumps(response, indent=2))\n",
    "    \n",
    "    if response['status'] == 'ok':\n",
    "        job_id = response['jobid']\n",
    "        print('Job \"{}\" submitted.'.format(job_id))\n",
    "        # Refresh auth token\n",
    "        config['auth_token'] = response['new_token']\n",
    "    else:\n",
    "        job_id = None\n",
    "        print('Error submitting job: '.format(response['message']))\n",
    "    \n",
    "    return response\n"
   ]
  },
  {
   "cell_type": "markdown",
   "metadata": {},
   "source": [
    "### Define query job submission function"
   ]
  },
  {
   "cell_type": "code",
   "execution_count": 19,
   "metadata": {},
   "outputs": [],
   "source": [
    "def submit_query_job():\n",
    "    \"\"\"Submits a query job and returns the complete server response which includes the job ID.\"\"\"\n",
    "\n",
    "    # Specify API request parameters\n",
    "    data = {\n",
    "        'username': config['username'],\n",
    "        'db': config['database'],\n",
    "        'filename': 'results.csv',\n",
    "        'query': '''\n",
    "            SELECT\n",
    "            COADD_OBJECT_ID,RA,DEC,\n",
    "            MAG_AUTO_G G,\n",
    "            MAG_AUTO_R R,\n",
    "            WAVG_MAG_PSF_G G_PSF,\n",
    "            WAVG_MAG_PSF_R R_PSF\n",
    "            FROM DR2_MAIN\n",
    "            WHERE\n",
    "            RA between 323.36-0.12 and 323.36+0.12 and\n",
    "            DEC between -0.82-0.12 and -0.82+0.12 and\n",
    "            WAVG_SPREAD_MODEL_I + 3.0*WAVG_SPREADERR_MODEL_I < 0.005 and\n",
    "            WAVG_SPREAD_MODEL_I > -1 and\n",
    "            IMAFLAGS_ISO_G = 0 and\n",
    "            IMAFLAGS_ISO_R = 0 and\n",
    "            FLAGS_G < 4 and\n",
    "            FLAGS_R < 4\n",
    "        '''\n",
    "    }\n",
    "\n",
    "    # Submit job\n",
    "    r = requests.put(\n",
    "        '{}/job/query'.format(config['apiBaseUrl']),\n",
    "        data=data,\n",
    "        headers={'Authorization': 'Bearer {}'.format(config['auth_token'])}\n",
    "    )\n",
    "    response = r.json()\n",
    "    \n",
    "    if response['status'] == 'ok':\n",
    "        job_id = response['jobid']\n",
    "        print('Job \"{}\" submitted.'.format(job_id))\n",
    "        # Refresh auth token\n",
    "        config['auth_token'] = response['new_token']\n",
    "    else:\n",
    "        job_id = None\n",
    "        print('Error submitting job: '.format(response['message']))\n",
    "    \n",
    "    return response"
   ]
  },
  {
   "cell_type": "markdown",
   "metadata": {},
   "source": [
    "### Define job status function"
   ]
  },
  {
   "cell_type": "code",
   "execution_count": 12,
   "metadata": {},
   "outputs": [],
   "source": [
    "def get_job_status(job_id):\n",
    "    \"\"\"Returns the current status of the job identified by the unique job_id.\"\"\"\n",
    "\n",
    "    r = requests.post(\n",
    "        '{}/job/status'.format(config['apiBaseUrl']),\n",
    "        data={\n",
    "            'job-id': job_id\n",
    "        },\n",
    "        headers={'Authorization': 'Bearer {}'.format(config['auth_token'])}\n",
    "    )\n",
    "    response = r.json()\n",
    "    # Refresh auth token\n",
    "    config['auth_token'] = response['new_token']\n",
    "    # print(json.dumps(response, indent=2))\n",
    "    return response"
   ]
  },
  {
   "cell_type": "markdown",
   "metadata": {},
   "source": [
    "### Define job file downloader function"
   ]
  },
  {
   "cell_type": "code",
   "execution_count": 13,
   "metadata": {},
   "outputs": [],
   "source": [
    "def download_job_files(url, outdir):\n",
    "    os.makedirs(outdir, exist_ok=True)\n",
    "    r = requests.get('{}/json'.format(url))\n",
    "    for item in r.json():\n",
    "        if item['type'] == 'directory':\n",
    "            suburl = '{}/{}'.format(url, item['name'])\n",
    "            subdir = '{}/{}'.format(outdir, item['name'])\n",
    "            download_job_files(suburl, subdir)\n",
    "        elif item['type'] == 'file':\n",
    "            data = requests.get('{}/{}'.format(url, item['name']))\n",
    "            with open('{}/{}'.format(outdir, item['name']), \"wb\") as file:\n",
    "                file.write(data.content)\n",
    "\n",
    "    response = r.json()\n",
    "    return response"
   ]
  },
  {
   "cell_type": "markdown",
   "metadata": {},
   "source": [
    "### Define job file lister function"
   ]
  },
  {
   "cell_type": "code",
   "execution_count": 14,
   "metadata": {},
   "outputs": [],
   "source": [
    "def list_job_files(url):\n",
    "    r = requests.get('{}/json'.format(url))\n",
    "    for item in r.json():\n",
    "        if item['type'] == 'directory':\n",
    "            suburl = '{}/{}'.format(url, item['name'])\n",
    "            subdir = '{}/{}'.format(outdir, item['name'])\n",
    "            list_job_files(suburl, subdir)\n",
    "        elif item['type'] == 'file':\n",
    "            print('{}/{}'.format(url, item['name']))\n",
    "    response = r.json()\n",
    "    return response"
   ]
  },
  {
   "cell_type": "markdown",
   "metadata": {},
   "source": [
    "### Define downloaded file lister"
   ]
  },
  {
   "cell_type": "code",
   "execution_count": 15,
   "metadata": {},
   "outputs": [],
   "source": [
    "def list_downloaded_files(download_dir):\n",
    "    for dirpath, dirnames, filenames in os.walk(download_dir):\n",
    "        for filename in filenames:\n",
    "            print(os.path.join(dirpath, filename))\n"
   ]
  },
  {
   "cell_type": "markdown",
   "metadata": {},
   "source": [
    "### Define job status polling function"
   ]
  },
  {
   "cell_type": "code",
   "execution_count": 16,
   "metadata": {},
   "outputs": [],
   "source": [
    "def job_status_poll(job_id):\n",
    "    print('Polling status of job \"{}\"...'.format(job_id), end='')\n",
    "    job_status = ''\n",
    "    response = None\n",
    "    while job_status != 'ok':\n",
    "        # Fetch the current job status\n",
    "        response = get_job_status(job_id)\n",
    "        # Quit polling if there is an error getting a status update\n",
    "        if response['status'] != 'ok':\n",
    "            break\n",
    "        job_status = response['jobs'][0]['job_status']\n",
    "        if job_status == 'success' or job_status == 'failure':\n",
    "            print('\\nJob completed with status: {}'.format(job_status))\n",
    "            break\n",
    "        else:\n",
    "            # Display another dot to indicate that polling is still active\n",
    "            print('.', end='', sep='', flush=True)\n",
    "        time.sleep(3)\n",
    "    return response"
   ]
  },
  {
   "cell_type": "markdown",
   "metadata": {},
   "source": [
    "## Obtain authentication token"
   ]
  },
  {
   "cell_type": "code",
   "execution_count": null,
   "metadata": {},
   "outputs": [],
   "source": [
    " # Authenticate and store the auth token for subsequent API calls\n",
    "try:\n",
    "    print('Logging in as user \"{}\" (\"{}\") and storing auth token...'.format(config['username'], config['database']))\n",
    "    login()\n",
    "except:\n",
    "    print('Login failed.')\n",
    "    sys.exit(1)"
   ]
  },
  {
   "cell_type": "markdown",
   "metadata": {},
   "source": [
    "## Submit jobs"
   ]
  },
  {
   "cell_type": "markdown",
   "metadata": {},
   "source": [
    "### Submit a query job to retrieve data from the DESSCI database"
   ]
  },
  {
   "cell_type": "code",
   "execution_count": 20,
   "metadata": {},
   "outputs": [
    {
     "name": "stdout",
     "output_type": "stream",
     "text": [
      "Submitting query job...\n",
      "Job \"dd0d68c481fb46fba05897e52579392a\" submitted.\n",
      "New job submitted: dd0d68c481fb46fba05897e52579392a\n",
      "Polling status of job \"dd0d68c481fb46fba05897e52579392a\"..........\n",
      "Job completed with status: success\n"
     ]
    }
   ],
   "source": [
    "job_type = 'query'\n",
    "\n",
    "print('Submitting query job...')\n",
    "response = submit_query_job()\n",
    "\n",
    "# Store the unique job ID for the new job\n",
    "job_id = response['jobid']\n",
    "print('New job submitted: {}'.format(job_id))\n",
    "\n",
    "response = job_status_poll(job_id)"
   ]
  },
  {
   "cell_type": "markdown",
   "metadata": {},
   "source": [
    "### Download the job output files"
   ]
  },
  {
   "cell_type": "code",
   "execution_count": 24,
   "metadata": {},
   "outputs": [
    {
     "name": "stdout",
     "output_type": "stream",
     "text": [
      "Files for job \"dd0d68c481fb46fba05897e52579392a\" downloaded to \"./dd0d68c481fb46fba05897e52579392a\"\n",
      "./dd0d68c481fb46fba05897e52579392a/meta.json\n",
      "./dd0d68c481fb46fba05897e52579392a/results.csv\n"
     ]
    }
   ],
   "source": [
    "# If successful, display job results\n",
    "if response['status'] == 'ok':\n",
    "    job_type = response['jobs'][0]['job_type']\n",
    "    job_id = response['jobs'][0]['job_id']\n",
    "    # Construct the job file download URL\n",
    "    job_url = '{}/{}/{}/{}'.format(config['filesBaseUrl'], config['username'], job_type, job_id)\n",
    "    download_dir = './{}'.format(job_id)\n",
    "    # Download each raw job file sequentially to a subfolder of the working directory\n",
    "    download_job_files(job_url, download_dir)\n",
    "    print('Files for job \"{}\" downloaded to \"{}\"'.format(job_id, download_dir))\n",
    "    list_downloaded_files(download_dir)\n",
    "else:\n",
    "    print('The job \"{}\" failed.'.format(job_id))"
   ]
  },
  {
   "cell_type": "markdown",
   "metadata": {},
   "source": [
    "### Submit a cutout job to retrieve image data from the DESDR database"
   ]
  },
  {
   "cell_type": "code",
   "execution_count": null,
   "metadata": {},
   "outputs": [],
   "source": [
    "job_type = 'cutout'\n",
    "data = {\n",
    "        'db': config['database'],\n",
    "        'release': config['release'],\n",
    "        'positions': positions,\n",
    "    }\n",
    "print('Submitting cutout job...')\n",
    "response = submit_cutout_job(data=data)\n",
    "\n",
    "if response['status'] == 'ok':\n",
    "    # Store the unique job ID for the new job\n",
    "    job_id = response['jobid']\n",
    "    print('New job submitted: {}'.format(job_id))\n",
    "    response = job_status_poll(job_id)\n",
    "    print(json.dumps(response, indent=2))\n",
    "else:\n",
    "    print('Response: {}'.format(json.dumps(response, indent=2)))\n"
   ]
  },
  {
   "cell_type": "markdown",
   "metadata": {},
   "source": [
    "### Cutout request that discards unrequested FITS files"
   ]
  },
  {
   "cell_type": "code",
   "execution_count": null,
   "metadata": {},
   "outputs": [],
   "source": [
    "job_type = 'cutout'\n",
    "\n",
    "data = {\n",
    "        'db': config['database'],\n",
    "        'release': config['release'],\n",
    "        'positions': positions,\n",
    "        'discard_fits_files': True,\n",
    "    }\n",
    "print('Submitting cutout job...')\n",
    "response = submit_cutout_job(data=data)\n",
    "\n",
    "if response['status'] == 'ok':\n",
    "    # Store the unique job ID for the new job\n",
    "    job_id = response['jobid']\n",
    "    print('New job submitted: {}'.format(job_id))\n",
    "    response = job_status_poll(job_id)\n",
    "    print(json.dumps(response, indent=2))\n",
    "else:\n",
    "    print('Response: {}'.format(json.dumps(response, indent=2)))\n"
   ]
  },
  {
   "cell_type": "markdown",
   "metadata": {},
   "source": [
    "### Download the job output files"
   ]
  },
  {
   "cell_type": "code",
   "execution_count": 27,
   "metadata": {},
   "outputs": [
    {
     "name": "stdout",
     "output_type": "stream",
     "text": [
      "Files for job \"ec10fde881944294b08cf214f7896794\" downloaded to \"./ec10fde881944294b08cf214f7896794\"\n",
      "./ec10fde881944294b08cf214f7896794/positions_ec10fde881944294b08cf214f7896794.csv\n",
      "./ec10fde881944294b08cf214f7896794/summary.json\n",
      "./ec10fde881944294b08cf214f7896794/cutout_ec10fde881944294b08cf214f7896794.log\n",
      "./ec10fde881944294b08cf214f7896794/DES0226-1541/DESJ022626.0160-154120.0040/DESJ022626.0160-154120.0040_gri_lupton.png\n",
      "./ec10fde881944294b08cf214f7896794/DES0305-3415/DESJ030506.1606-341521.6000/DESJ030506.1606-341521.6000_i.fits\n",
      "./ec10fde881944294b08cf214f7896794/DES0126+0335/DESJ012621.1512+032909.9960/DESJ012621.1512+032909.9960_g.fits\n",
      "./ec10fde881944294b08cf214f7896794/DES0126+0335/DESJ012621.1512+032909.9960/DESJ012621.1512+032909.9960_riy_stiff.png\n",
      "./ec10fde881944294b08cf214f7896794/DES0126+0335/DESJ012621.1512+032909.9960/DESJ012621.1512+032909.9960_riy_lupton.png\n",
      "./ec10fde881944294b08cf214f7896794/DES0126+0335/DESJ012621.1512+032909.9960/DESJ012621.1512+032909.9960_r.fits\n",
      "./ec10fde881944294b08cf214f7896794/DES0126+0335/DESJ012621.1512+032909.9960/DESJ012621.1512+032909.9960_z.fits\n"
     ]
    }
   ],
   "source": [
    "# If successful, display job results\n",
    "if response['status'] == 'ok':\n",
    "    job_type = response['jobs'][0]['job_type']\n",
    "    job_id = response['jobs'][0]['job_id']\n",
    "    # Construct the job file download URL\n",
    "    job_url = '{}/{}/{}/{}'.format(config['filesBaseUrl'], config['username'], job_type, job_id)\n",
    "    download_dir = './{}'.format(job_id)\n",
    "    # Download each raw job file sequentially to a subfolder of the working directory\n",
    "    download_job_files(job_url, download_dir)\n",
    "    print('Files for job \"{}\" downloaded to \"{}\"'.format(job_id, download_dir))\n",
    "    list_downloaded_files(download_dir)\n",
    "else:\n",
    "    print('The job \"{}\" failed.'.format(job_id))"
   ]
  }
 ],
 "metadata": {
  "kernelspec": {
   "display_name": "Python 3",
   "language": "python",
   "name": "python3"
  },
  "language_info": {
   "codemirror_mode": {
    "name": "ipython",
    "version": 3
   },
   "file_extension": ".py",
   "mimetype": "text/x-python",
   "name": "python",
   "nbconvert_exporter": "python",
   "pygments_lexer": "ipython3",
   "version": "3.8.6"
  }
 },
 "nbformat": 4,
 "nbformat_minor": 4
}
